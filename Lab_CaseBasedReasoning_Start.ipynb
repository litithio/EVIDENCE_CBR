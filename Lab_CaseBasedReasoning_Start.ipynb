{
 "cells": [
  {
   "cell_type": "markdown",
   "metadata": {},
   "source": [
    "# Lab - Case Based Reasoning (CBR)"
   ]
  },
  {
   "cell_type": "markdown",
   "metadata": {},
   "source": [
    "Ein (sehr) grundlegendes Labor in dem die Grundzüge des CBL dargestellt werden und das Erstellen einer Ähnlichkeitsfunktion im Vordergrund steht."
   ]
  },
  {
   "cell_type": "markdown",
   "metadata": {},
   "source": [
    "Initialisierung und Datenimport"
   ]
  },
  {
   "cell_type": "code",
   "execution_count": 2,
   "metadata": {},
   "outputs": [],
   "source": [
    "import pandas as pd\n",
    "import numpy as np"
   ]
  },
  {
   "cell_type": "code",
   "execution_count": 3,
   "metadata": {
    "scrolled": true
   },
   "outputs": [
    {
     "data": {
      "text/html": [
       "<div>\n",
       "<style scoped>\n",
       "    .dataframe tbody tr th:only-of-type {\n",
       "        vertical-align: middle;\n",
       "    }\n",
       "\n",
       "    .dataframe tbody tr th {\n",
       "        vertical-align: top;\n",
       "    }\n",
       "\n",
       "    .dataframe thead th {\n",
       "        text-align: right;\n",
       "    }\n",
       "</style>\n",
       "<table border=\"1\" class=\"dataframe\">\n",
       "  <thead>\n",
       "    <tr style=\"text-align: right;\">\n",
       "      <th></th>\n",
       "      <th>Geschlecht</th>\n",
       "      <th>Familienstand</th>\n",
       "      <th>Alter</th>\n",
       "      <th>Kinder</th>\n",
       "      <th>Bildungsstand</th>\n",
       "      <th>Beruf</th>\n",
       "      <th>Jahresgehalt</th>\n",
       "      <th>Versicherungstarif</th>\n",
       "    </tr>\n",
       "  </thead>\n",
       "  <tbody>\n",
       "    <tr>\n",
       "      <th>0</th>\n",
       "      <td>weiblich</td>\n",
       "      <td>geschieden</td>\n",
       "      <td>35</td>\n",
       "      <td>1</td>\n",
       "      <td>Bachelor</td>\n",
       "      <td>angestellt</td>\n",
       "      <td>65112</td>\n",
       "      <td>Tarif B</td>\n",
       "    </tr>\n",
       "    <tr>\n",
       "      <th>1</th>\n",
       "      <td>maennlich</td>\n",
       "      <td>ledig</td>\n",
       "      <td>27</td>\n",
       "      <td>0</td>\n",
       "      <td>Master</td>\n",
       "      <td>verbeamtet</td>\n",
       "      <td>71322</td>\n",
       "      <td>Tarif B</td>\n",
       "    </tr>\n",
       "    <tr>\n",
       "      <th>2</th>\n",
       "      <td>maennlich</td>\n",
       "      <td>verheiratet</td>\n",
       "      <td>57</td>\n",
       "      <td>1</td>\n",
       "      <td>Promotion</td>\n",
       "      <td>angestellt</td>\n",
       "      <td>66340</td>\n",
       "      <td>Tarif C</td>\n",
       "    </tr>\n",
       "    <tr>\n",
       "      <th>3</th>\n",
       "      <td>weiblich</td>\n",
       "      <td>verheiratet</td>\n",
       "      <td>71</td>\n",
       "      <td>0</td>\n",
       "      <td>Hauptschule</td>\n",
       "      <td>im Ruhestand</td>\n",
       "      <td>39500</td>\n",
       "      <td>Tarif D</td>\n",
       "    </tr>\n",
       "    <tr>\n",
       "      <th>4</th>\n",
       "      <td>weiblich</td>\n",
       "      <td>ledig</td>\n",
       "      <td>64</td>\n",
       "      <td>0</td>\n",
       "      <td>Bachelor</td>\n",
       "      <td>angestellt</td>\n",
       "      <td>59460</td>\n",
       "      <td>Tarif C</td>\n",
       "    </tr>\n",
       "  </tbody>\n",
       "</table>\n",
       "</div>"
      ],
      "text/plain": [
       "  Geschlecht Familienstand  Alter  Kinder Bildungsstand         Beruf  \\\n",
       "0   weiblich    geschieden     35       1      Bachelor    angestellt   \n",
       "1  maennlich         ledig     27       0        Master    verbeamtet   \n",
       "2  maennlich   verheiratet     57       1     Promotion    angestellt   \n",
       "3   weiblich   verheiratet     71       0   Hauptschule  im Ruhestand   \n",
       "4   weiblich         ledig     64       0      Bachelor    angestellt   \n",
       "\n",
       "   Jahresgehalt Versicherungstarif  \n",
       "0         65112            Tarif B  \n",
       "1         71322            Tarif B  \n",
       "2         66340            Tarif C  \n",
       "3         39500            Tarif D  \n",
       "4         59460            Tarif C  "
      ]
     },
     "execution_count": 3,
     "metadata": {},
     "output_type": "execute_result"
    }
   ],
   "source": [
    "data = pd.read_csv('./data/Versicherung.csv', sep=';')\n",
    "data.head()"
   ]
  },
  {
   "cell_type": "markdown",
   "metadata": {},
   "source": [
    "Aufgabe 1: Nur Alter und Jahresgehalt"
   ]
  },
  {
   "cell_type": "markdown",
   "metadata": {},
   "source": [
    "Beide sind numerisch, daher ist die Ähnlichkeitsfunktion einheitlich/homogen"
   ]
  },
  {
   "cell_type": "code",
   "execution_count": 7,
   "metadata": {},
   "outputs": [],
   "source": [
    "from sklearn.metrics.pairwise import cosine_similarity\n",
    "\n",
    "def aehnlichkeit(person1, person2):\n",
    "    \"\"\"\n",
    "    Berechnet die Ähnlichkeit zwischen zwei Personen.\n",
    "\n",
    "    Args:\n",
    "        person1: Eine Zeile des Datensatzes als Dictionary.\n",
    "        person2: Eine Zeile des Datensatzes als Dictionary.\n",
    "\n",
    "    Returns:\n",
    "        float: Ein Wert zwischen 0 und 1, der die Ähnlichkeit angibt.\n",
    "    \"\"\"\n",
    "\n",
    "    # Merkmale, die für den Vergleich berücksichtigt werden\n",
    "    merkmale = [ 'Alter', 'Jahresgehalt']\n",
    "\n",
    "    # Gewichte für die Merkmale (optional, hier gleich gewichtet)\n",
    "    gewichte = [1] * len(merkmale)\n",
    "\n",
    "    # Vektoren erstellen, die die Merkmale der Personen repräsentieren\n",
    "    vektor1 = [person1[merkmal] for merkmal in merkmale]\n",
    "    vektor2 = [person2[merkmal] for merkmal in merkmale]\n",
    "\n",
    "    # Für numerische Merkmale: Normalisierung (z.B. Min-Max-Skalierung)\n",
    "    # ... (Hier könnten Sie eine Normalisierung implementieren, wenn nötig)\n",
    "\n",
    "    # Für kategoriale Merkmale: Test auf Gleichheit\n",
    "    # ... (auch explizite Ähnlichkeitswerte zwischen Ausprägungen - Merkmalshierarchie)\n",
    "\n",
    "    # Cosinus Ähnlichkeit berechnen (hier sollte Sie eine eigene entwerfen)\n",
    "    aehnlichkeit = cosine_similarity([vektor1], [vektor2])[0][0]\n",
    "\n",
    "    # Gewichtete Ähnlichkeit (optional)\n",
    "    # aehnlichkeit = sum(gewichte[i] * aehlichkeit[i] for i in range(len(merkmale))) / sum(gewichte)\n",
    "\n",
    "    return aehnlichkeit\n"
   ]
  },
  {
   "cell_type": "markdown",
   "metadata": {},
   "source": [
    "Test am Beispiel"
   ]
  },
  {
   "cell_type": "code",
   "execution_count": 9,
   "metadata": {},
   "outputs": [
    {
     "name": "stdout",
     "output_type": "stream",
     "text": [
      "{'Geschlecht': 'weiblich', 'Familienstand': 'geschieden', 'Alter': 35, 'Kinder': 1, 'Bildungsstand': 'Bachelor', 'Beruf': 'angestellt', 'Jahresgehalt': 65112, 'Versicherungstarif': 'Tarif B'}\n",
      "{'Geschlecht': 'maennlich', 'Familienstand': 'ledig', 'Alter': 27, 'Kinder': 0, 'Bildungsstand': 'Master', 'Beruf': 'verbeamtet', 'Jahresgehalt': 71322, 'Versicherungstarif': 'Tarif B'}\n",
      "Ähnlichkeit:  0.9999999873641946\n"
     ]
    }
   ],
   "source": [
    "person_a = data.iloc[0].to_dict()\n",
    "person_b = data.iloc[1].to_dict()\n",
    "\n",
    "print(person_a)\n",
    "print(person_b)\n",
    "\n",
    "a = aehnlichkeit(person_a, person_b)\n",
    "\n",
    "print(\"Ähnlichkeit: \",a)\n"
   ]
  },
  {
   "cell_type": "markdown",
   "metadata": {},
   "source": [
    "Vergleichsfunktion zur Bestimmung des ähnlichsten Falls"
   ]
  },
  {
   "cell_type": "code",
   "execution_count": 11,
   "metadata": {},
   "outputs": [],
   "source": [
    "def finde_aehnlichsten_fall(dataframe, person_zu_vergleichen):\n",
    "\n",
    "# Ihre Aufgabe\n",
    "\n",
    "    return index_aehlichste_person, aehnlichkeit, aehnlichster_datensatz\n"
   ]
  },
  {
   "cell_type": "markdown",
   "metadata": {},
   "source": [
    "Test am Beispiel"
   ]
  },
  {
   "cell_type": "markdown",
   "metadata": {},
   "source": [
    "Person generieren mit Angaben Alter und Jahresgehalt"
   ]
  },
  {
   "cell_type": "code",
   "execution_count": 21,
   "metadata": {},
   "outputs": [
    {
     "name": "stdout",
     "output_type": "stream",
     "text": [
      "Die ähnlichste Person hat den Index 92 und eine Ähnlichkeit von 0.9999999999987702.\n",
      "Der Versicherungstarif ist daher Tarif A.\n"
     ]
    }
   ],
   "source": [
    "# Ihre Aufgabe - Testperson anlegen\n",
    "\n",
    "index, aehnlich, eintrag = finde_aehnlichsten_fall(data, testperson)\n",
    "tarif = eintrag['Versicherungstarif']\n",
    "\n",
    "print(f\"Die ähnlichste Person hat den Index {index} und eine Ähnlichkeit von {aehnlich}.\")\n",
    "print(f\"Der Versicherungstarif ist daher {tarif}.\")"
   ]
  },
  {
   "cell_type": "markdown",
   "metadata": {},
   "source": [
    "Erstellen einer Fallbasis (CBL Zyklus)"
   ]
  },
  {
   "cell_type": "code",
   "execution_count": 24,
   "metadata": {},
   "outputs": [],
   "source": [
    "cases = pd.DataFrame(columns=['Geschlecht', 'Familienstand', 'Alter', 'Kinder', 'Bildungsstand', 'Beruf', 'Jahresgehalt', 'Versicherungstarif'])\n"
   ]
  },
  {
   "cell_type": "markdown",
   "metadata": {},
   "source": [
    "Die Fallbasis ist zunächst leer. Diese wird nun nach dem CBL Algorithmus (Instance Based Learning) gefüllt. Vorgehen: Ein Fall wird aufgenommen, wenn er bisher nicht richtig klassifiziert wird."
   ]
  },
  {
   "cell_type": "code",
   "execution_count": 27,
   "metadata": {},
   "outputs": [],
   "source": [
    "# Füge den ersten Eintrag von data zu cases hinzu (initialisieren)\n",
    "initial = data.iloc[0]\n",
    "cases = cases.append(initial, ignore_index=True)"
   ]
  },
  {
   "cell_type": "code",
   "execution_count": 29,
   "metadata": {},
   "outputs": [],
   "source": [
    "# Ihre Aufgabe : besten Fall finden und schauen ob er korrekt klassifiziert\n",
    "#                wenn nein, aufnehmen.\n"
   ]
  },
  {
   "cell_type": "code",
   "execution_count": 30,
   "metadata": {},
   "outputs": [
    {
     "name": "stdout",
     "output_type": "stream",
     "text": [
      "Der Datensatz der Größe 500 wurde in 215 Fällen gespeichert.\n"
     ]
    }
   ],
   "source": [
    "print(f\"Der Datensatz der Größe {len(data)} wurde in {len(cases)} Fällen gespeichert.\")"
   ]
  },
  {
   "cell_type": "markdown",
   "metadata": {},
   "source": [
    "Noch die Qualität prüfen ..."
   ]
  },
  {
   "cell_type": "code",
   "execution_count": 34,
   "metadata": {},
   "outputs": [],
   "source": [
    "def treffer(data, cases):\n",
    "    \"\"\"\n",
    "    Überprüft, wie oft finde_aehnlichsten_fall den korrekten Versicherungstarif findet.\n",
    "\n",
    "    Args:\n",
    "        data: Der DataFrame, dessen Elemente geprüft werden sollen.\n",
    "        cases: Der DataFrame, in dem nach ähnlichen Fällen gesucht wird.\n",
    "        \n",
    "    Returns:\n",
    "        int: Anzahl der korrekten Übereinstimmungen.\n",
    "    \"\"\"\n",
    "\n",
    "    korrekte_uebereinstimmungen = 0\n",
    "    for index, row in data.iterrows():\n",
    "        _, _, case = finde_aehnlichsten_fall(cases, row)\n",
    "        if case['Versicherungstarif'] == row['Versicherungstarif']:\n",
    "            korrekte_uebereinstimmungen += 1\n",
    "        else:\n",
    "            print(f\"Fehler in Datensatz {index}\")\n",
    "            \n",
    "    return korrekte_uebereinstimmungen\n"
   ]
  },
  {
   "cell_type": "code",
   "execution_count": 36,
   "metadata": {},
   "outputs": [
    {
     "name": "stdout",
     "output_type": "stream",
     "text": [
      "Fehler in Datensatz 11\n",
      "Fehler in Datensatz 13\n",
      "Fehler in Datensatz 15\n",
      "Fehler in Datensatz 19\n",
      "Fehler in Datensatz 22\n",
      "Fehler in Datensatz 29\n",
      "Fehler in Datensatz 31\n",
      "Fehler in Datensatz 49\n",
      "Fehler in Datensatz 52\n",
      "Fehler in Datensatz 64\n",
      "Fehler in Datensatz 70\n",
      "Fehler in Datensatz 71\n",
      "Fehler in Datensatz 77\n",
      "Fehler in Datensatz 81\n",
      "Fehler in Datensatz 94\n",
      "Fehler in Datensatz 99\n",
      "Fehler in Datensatz 101\n",
      "Fehler in Datensatz 112\n",
      "Fehler in Datensatz 115\n",
      "Fehler in Datensatz 117\n",
      "Fehler in Datensatz 127\n",
      "Fehler in Datensatz 152\n",
      "Fehler in Datensatz 158\n",
      "Fehler in Datensatz 172\n",
      "Fehler in Datensatz 173\n",
      "Fehler in Datensatz 186\n",
      "Fehler in Datensatz 188\n",
      "Fehler in Datensatz 192\n",
      "Fehler in Datensatz 197\n",
      "Fehler in Datensatz 208\n",
      "Fehler in Datensatz 211\n",
      "Fehler in Datensatz 218\n",
      "Fehler in Datensatz 219\n",
      "Fehler in Datensatz 224\n",
      "Fehler in Datensatz 228\n",
      "Fehler in Datensatz 231\n",
      "Fehler in Datensatz 235\n",
      "Fehler in Datensatz 243\n",
      "Fehler in Datensatz 257\n",
      "Fehler in Datensatz 260\n",
      "Fehler in Datensatz 281\n",
      "Fehler in Datensatz 312\n",
      "Fehler in Datensatz 318\n",
      "Fehler in Datensatz 323\n",
      "Fehler in Datensatz 381\n",
      "Fehler in Datensatz 384\n",
      "Fehler in Datensatz 385\n",
      "Fehler in Datensatz 426\n",
      "Fehler in Datensatz 427\n",
      "Fehler in Datensatz 430\n",
      "Fehler in Datensatz 436\n",
      "Fehler in Datensatz 452\n",
      "Anzahl korrekter Übereinstimmungen: 448\n"
     ]
    }
   ],
   "source": [
    "anzahl_korrekte_uebereinstimmungen = treffer(data, cases)\n",
    "\n",
    "print(\"Anzahl korrekter Übereinstimmungen:\", anzahl_korrekte_uebereinstimmungen)"
   ]
  }
 ],
 "metadata": {
  "kernelspec": {
   "display_name": "Python [conda env:base] *",
   "language": "python",
   "name": "conda-base-py"
  },
  "language_info": {
   "codemirror_mode": {
    "name": "ipython",
    "version": 3
   },
   "file_extension": ".py",
   "mimetype": "text/x-python",
   "name": "python",
   "nbconvert_exporter": "python",
   "pygments_lexer": "ipython3",
   "version": "3.12.7"
  }
 },
 "nbformat": 4,
 "nbformat_minor": 4
}
