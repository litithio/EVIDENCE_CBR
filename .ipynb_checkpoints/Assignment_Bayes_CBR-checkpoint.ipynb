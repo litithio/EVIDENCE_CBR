{
 "cells": [
  {
   "cell_type": "markdown",
   "id": "b9bbdc3a-3e92-4cb4-93e0-2818307d0e0f",
   "metadata": {},
   "source": [
    "# Programmentwurf Künstliche Intelligenz\n",
    "\n",
    "## Thema :  Evidenztheorie und Case Based Reasoning\n",
    "\n",
    "### Namen der Studierenden: \n",
    "\n",
    "(Hinweis: Es sind Namen anzugeben und keine Matrikelnummern. Matrikelnummern werden ausschließlich bei Klausuren zur Anonymisierung verwendet)"
   ]
  },
  {
   "cell_type": "code",
   "execution_count": 3,
   "id": "6ee7ee7b-c97c-4bbb-b0b6-84c2d7ed5ee9",
   "metadata": {},
   "outputs": [
    {
     "ename": "FileNotFoundError",
     "evalue": "[Errno 2] No such file or directory: 'bikedata/sampled_data_001.csv'",
     "output_type": "error",
     "traceback": [
      "\u001b[0;31m---------------------------------------------------------------------------\u001b[0m",
      "\u001b[0;31mFileNotFoundError\u001b[0m                         Traceback (most recent call last)",
      "Cell \u001b[0;32mIn[3], line 7\u001b[0m\n\u001b[1;32m      5\u001b[0m \u001b[38;5;66;03m# Einlesen der CSV-Datei\u001b[39;00m\n\u001b[1;32m      6\u001b[0m file_path \u001b[38;5;241m=\u001b[39m \u001b[38;5;124m'\u001b[39m\u001b[38;5;124mbikedata/sampled_data_001.csv\u001b[39m\u001b[38;5;124m'\u001b[39m   \u001b[38;5;66;03m# Einsetzen!\u001b[39;00m\n\u001b[0;32m----> 7\u001b[0m data \u001b[38;5;241m=\u001b[39m pd\u001b[38;5;241m.\u001b[39mread_csv(file_path, sep\u001b[38;5;241m=\u001b[39m\u001b[38;5;124m\"\u001b[39m\u001b[38;5;124m;\u001b[39m\u001b[38;5;124m\"\u001b[39m, decimal\u001b[38;5;241m=\u001b[39m\u001b[38;5;124m\"\u001b[39m\u001b[38;5;124m,\u001b[39m\u001b[38;5;124m\"\u001b[39m)\n",
      "File \u001b[0;32m/opt/anaconda3/lib/python3.12/site-packages/pandas/io/parsers/readers.py:1026\u001b[0m, in \u001b[0;36mread_csv\u001b[0;34m(filepath_or_buffer, sep, delimiter, header, names, index_col, usecols, dtype, engine, converters, true_values, false_values, skipinitialspace, skiprows, skipfooter, nrows, na_values, keep_default_na, na_filter, verbose, skip_blank_lines, parse_dates, infer_datetime_format, keep_date_col, date_parser, date_format, dayfirst, cache_dates, iterator, chunksize, compression, thousands, decimal, lineterminator, quotechar, quoting, doublequote, escapechar, comment, encoding, encoding_errors, dialect, on_bad_lines, delim_whitespace, low_memory, memory_map, float_precision, storage_options, dtype_backend)\u001b[0m\n\u001b[1;32m   1013\u001b[0m kwds_defaults \u001b[38;5;241m=\u001b[39m _refine_defaults_read(\n\u001b[1;32m   1014\u001b[0m     dialect,\n\u001b[1;32m   1015\u001b[0m     delimiter,\n\u001b[0;32m   (...)\u001b[0m\n\u001b[1;32m   1022\u001b[0m     dtype_backend\u001b[38;5;241m=\u001b[39mdtype_backend,\n\u001b[1;32m   1023\u001b[0m )\n\u001b[1;32m   1024\u001b[0m kwds\u001b[38;5;241m.\u001b[39mupdate(kwds_defaults)\n\u001b[0;32m-> 1026\u001b[0m \u001b[38;5;28;01mreturn\u001b[39;00m _read(filepath_or_buffer, kwds)\n",
      "File \u001b[0;32m/opt/anaconda3/lib/python3.12/site-packages/pandas/io/parsers/readers.py:620\u001b[0m, in \u001b[0;36m_read\u001b[0;34m(filepath_or_buffer, kwds)\u001b[0m\n\u001b[1;32m    617\u001b[0m _validate_names(kwds\u001b[38;5;241m.\u001b[39mget(\u001b[38;5;124m\"\u001b[39m\u001b[38;5;124mnames\u001b[39m\u001b[38;5;124m\"\u001b[39m, \u001b[38;5;28;01mNone\u001b[39;00m))\n\u001b[1;32m    619\u001b[0m \u001b[38;5;66;03m# Create the parser.\u001b[39;00m\n\u001b[0;32m--> 620\u001b[0m parser \u001b[38;5;241m=\u001b[39m TextFileReader(filepath_or_buffer, \u001b[38;5;241m*\u001b[39m\u001b[38;5;241m*\u001b[39mkwds)\n\u001b[1;32m    622\u001b[0m \u001b[38;5;28;01mif\u001b[39;00m chunksize \u001b[38;5;129;01mor\u001b[39;00m iterator:\n\u001b[1;32m    623\u001b[0m     \u001b[38;5;28;01mreturn\u001b[39;00m parser\n",
      "File \u001b[0;32m/opt/anaconda3/lib/python3.12/site-packages/pandas/io/parsers/readers.py:1620\u001b[0m, in \u001b[0;36mTextFileReader.__init__\u001b[0;34m(self, f, engine, **kwds)\u001b[0m\n\u001b[1;32m   1617\u001b[0m     \u001b[38;5;28mself\u001b[39m\u001b[38;5;241m.\u001b[39moptions[\u001b[38;5;124m\"\u001b[39m\u001b[38;5;124mhas_index_names\u001b[39m\u001b[38;5;124m\"\u001b[39m] \u001b[38;5;241m=\u001b[39m kwds[\u001b[38;5;124m\"\u001b[39m\u001b[38;5;124mhas_index_names\u001b[39m\u001b[38;5;124m\"\u001b[39m]\n\u001b[1;32m   1619\u001b[0m \u001b[38;5;28mself\u001b[39m\u001b[38;5;241m.\u001b[39mhandles: IOHandles \u001b[38;5;241m|\u001b[39m \u001b[38;5;28;01mNone\u001b[39;00m \u001b[38;5;241m=\u001b[39m \u001b[38;5;28;01mNone\u001b[39;00m\n\u001b[0;32m-> 1620\u001b[0m \u001b[38;5;28mself\u001b[39m\u001b[38;5;241m.\u001b[39m_engine \u001b[38;5;241m=\u001b[39m \u001b[38;5;28mself\u001b[39m\u001b[38;5;241m.\u001b[39m_make_engine(f, \u001b[38;5;28mself\u001b[39m\u001b[38;5;241m.\u001b[39mengine)\n",
      "File \u001b[0;32m/opt/anaconda3/lib/python3.12/site-packages/pandas/io/parsers/readers.py:1880\u001b[0m, in \u001b[0;36mTextFileReader._make_engine\u001b[0;34m(self, f, engine)\u001b[0m\n\u001b[1;32m   1878\u001b[0m     \u001b[38;5;28;01mif\u001b[39;00m \u001b[38;5;124m\"\u001b[39m\u001b[38;5;124mb\u001b[39m\u001b[38;5;124m\"\u001b[39m \u001b[38;5;129;01mnot\u001b[39;00m \u001b[38;5;129;01min\u001b[39;00m mode:\n\u001b[1;32m   1879\u001b[0m         mode \u001b[38;5;241m+\u001b[39m\u001b[38;5;241m=\u001b[39m \u001b[38;5;124m\"\u001b[39m\u001b[38;5;124mb\u001b[39m\u001b[38;5;124m\"\u001b[39m\n\u001b[0;32m-> 1880\u001b[0m \u001b[38;5;28mself\u001b[39m\u001b[38;5;241m.\u001b[39mhandles \u001b[38;5;241m=\u001b[39m get_handle(\n\u001b[1;32m   1881\u001b[0m     f,\n\u001b[1;32m   1882\u001b[0m     mode,\n\u001b[1;32m   1883\u001b[0m     encoding\u001b[38;5;241m=\u001b[39m\u001b[38;5;28mself\u001b[39m\u001b[38;5;241m.\u001b[39moptions\u001b[38;5;241m.\u001b[39mget(\u001b[38;5;124m\"\u001b[39m\u001b[38;5;124mencoding\u001b[39m\u001b[38;5;124m\"\u001b[39m, \u001b[38;5;28;01mNone\u001b[39;00m),\n\u001b[1;32m   1884\u001b[0m     compression\u001b[38;5;241m=\u001b[39m\u001b[38;5;28mself\u001b[39m\u001b[38;5;241m.\u001b[39moptions\u001b[38;5;241m.\u001b[39mget(\u001b[38;5;124m\"\u001b[39m\u001b[38;5;124mcompression\u001b[39m\u001b[38;5;124m\"\u001b[39m, \u001b[38;5;28;01mNone\u001b[39;00m),\n\u001b[1;32m   1885\u001b[0m     memory_map\u001b[38;5;241m=\u001b[39m\u001b[38;5;28mself\u001b[39m\u001b[38;5;241m.\u001b[39moptions\u001b[38;5;241m.\u001b[39mget(\u001b[38;5;124m\"\u001b[39m\u001b[38;5;124mmemory_map\u001b[39m\u001b[38;5;124m\"\u001b[39m, \u001b[38;5;28;01mFalse\u001b[39;00m),\n\u001b[1;32m   1886\u001b[0m     is_text\u001b[38;5;241m=\u001b[39mis_text,\n\u001b[1;32m   1887\u001b[0m     errors\u001b[38;5;241m=\u001b[39m\u001b[38;5;28mself\u001b[39m\u001b[38;5;241m.\u001b[39moptions\u001b[38;5;241m.\u001b[39mget(\u001b[38;5;124m\"\u001b[39m\u001b[38;5;124mencoding_errors\u001b[39m\u001b[38;5;124m\"\u001b[39m, \u001b[38;5;124m\"\u001b[39m\u001b[38;5;124mstrict\u001b[39m\u001b[38;5;124m\"\u001b[39m),\n\u001b[1;32m   1888\u001b[0m     storage_options\u001b[38;5;241m=\u001b[39m\u001b[38;5;28mself\u001b[39m\u001b[38;5;241m.\u001b[39moptions\u001b[38;5;241m.\u001b[39mget(\u001b[38;5;124m\"\u001b[39m\u001b[38;5;124mstorage_options\u001b[39m\u001b[38;5;124m\"\u001b[39m, \u001b[38;5;28;01mNone\u001b[39;00m),\n\u001b[1;32m   1889\u001b[0m )\n\u001b[1;32m   1890\u001b[0m \u001b[38;5;28;01massert\u001b[39;00m \u001b[38;5;28mself\u001b[39m\u001b[38;5;241m.\u001b[39mhandles \u001b[38;5;129;01mis\u001b[39;00m \u001b[38;5;129;01mnot\u001b[39;00m \u001b[38;5;28;01mNone\u001b[39;00m\n\u001b[1;32m   1891\u001b[0m f \u001b[38;5;241m=\u001b[39m \u001b[38;5;28mself\u001b[39m\u001b[38;5;241m.\u001b[39mhandles\u001b[38;5;241m.\u001b[39mhandle\n",
      "File \u001b[0;32m/opt/anaconda3/lib/python3.12/site-packages/pandas/io/common.py:873\u001b[0m, in \u001b[0;36mget_handle\u001b[0;34m(path_or_buf, mode, encoding, compression, memory_map, is_text, errors, storage_options)\u001b[0m\n\u001b[1;32m    868\u001b[0m \u001b[38;5;28;01melif\u001b[39;00m \u001b[38;5;28misinstance\u001b[39m(handle, \u001b[38;5;28mstr\u001b[39m):\n\u001b[1;32m    869\u001b[0m     \u001b[38;5;66;03m# Check whether the filename is to be opened in binary mode.\u001b[39;00m\n\u001b[1;32m    870\u001b[0m     \u001b[38;5;66;03m# Binary mode does not support 'encoding' and 'newline'.\u001b[39;00m\n\u001b[1;32m    871\u001b[0m     \u001b[38;5;28;01mif\u001b[39;00m ioargs\u001b[38;5;241m.\u001b[39mencoding \u001b[38;5;129;01mand\u001b[39;00m \u001b[38;5;124m\"\u001b[39m\u001b[38;5;124mb\u001b[39m\u001b[38;5;124m\"\u001b[39m \u001b[38;5;129;01mnot\u001b[39;00m \u001b[38;5;129;01min\u001b[39;00m ioargs\u001b[38;5;241m.\u001b[39mmode:\n\u001b[1;32m    872\u001b[0m         \u001b[38;5;66;03m# Encoding\u001b[39;00m\n\u001b[0;32m--> 873\u001b[0m         handle \u001b[38;5;241m=\u001b[39m \u001b[38;5;28mopen\u001b[39m(\n\u001b[1;32m    874\u001b[0m             handle,\n\u001b[1;32m    875\u001b[0m             ioargs\u001b[38;5;241m.\u001b[39mmode,\n\u001b[1;32m    876\u001b[0m             encoding\u001b[38;5;241m=\u001b[39mioargs\u001b[38;5;241m.\u001b[39mencoding,\n\u001b[1;32m    877\u001b[0m             errors\u001b[38;5;241m=\u001b[39merrors,\n\u001b[1;32m    878\u001b[0m             newline\u001b[38;5;241m=\u001b[39m\u001b[38;5;124m\"\u001b[39m\u001b[38;5;124m\"\u001b[39m,\n\u001b[1;32m    879\u001b[0m         )\n\u001b[1;32m    880\u001b[0m     \u001b[38;5;28;01melse\u001b[39;00m:\n\u001b[1;32m    881\u001b[0m         \u001b[38;5;66;03m# Binary mode\u001b[39;00m\n\u001b[1;32m    882\u001b[0m         handle \u001b[38;5;241m=\u001b[39m \u001b[38;5;28mopen\u001b[39m(handle, ioargs\u001b[38;5;241m.\u001b[39mmode)\n",
      "\u001b[0;31mFileNotFoundError\u001b[0m: [Errno 2] No such file or directory: 'bikedata/sampled_data_001.csv'"
     ]
    }
   ],
   "source": [
    "import pandas as pd\n",
    "import matplotlib.pyplot as plt\n",
    "import seaborn as sns\n",
    "\n",
    "# Einlesen der CSV-Datei\n",
    "file_path = 'bikedata/sampled_data_001.csv'   # Einsetzen!\n",
    "data = pd.read_csv(file_path, sep=\";\", decimal=\",\")"
   ]
  },
  {
   "cell_type": "markdown",
   "id": "aa538165-c1d4-44ea-942e-ad17d6199616",
   "metadata": {},
   "source": [
    "#### Etwas Analyse vorab ... gerne erweitern"
   ]
  },
  {
   "cell_type": "code",
   "execution_count": null,
   "id": "38e10bee-7161-48f4-849d-c220d9412483",
   "metadata": {},
   "outputs": [],
   "source": [
    "\n",
    "# Numerische Attribute - einzelne Boxplots\n",
    "numeric_columns = data.select_dtypes(include='number').columns\n",
    "\n",
    "for column in numeric_columns:\n",
    "    plt.figure(figsize=(8, 6))\n",
    "    sns.boxplot(y=data[column])\n",
    "    plt.title(f'Boxplot der numerischen Attributs: {column}')\n",
    "    plt.ylabel(column)\n",
    "    plt.grid(True)\n",
    "    plt.show()\n",
    "\n",
    "# Kategoriale Attribute - Häufigkeitsverteilungen\n",
    "categorical_columns = data.select_dtypes(include='object').columns\n",
    "\n",
    "for column in categorical_columns:\n",
    "    plt.figure(figsize=(10, 5))\n",
    "    data[column].value_counts().plot(kind='bar')\n",
    "    plt.title(f'Häufigkeitsverteilung von {column}')\n",
    "    plt.xlabel(column)\n",
    "    plt.ylabel('Häufigkeit')\n",
    "    plt.grid(True)\n",
    "    plt.show()\n"
   ]
  },
  {
   "cell_type": "code",
   "execution_count": null,
   "id": "6266c179-51a4-4ec2-9c20-89e52e494128",
   "metadata": {},
   "outputs": [],
   "source": [
    "# Scatterplot für Elevation Gain und Distance basierend auf Bike Type\n",
    "\n",
    "plt.figure(figsize=(10, 6))\n",
    "colors = {'race bike': 'red', 'mtb': 'green', 'trecking bike': 'yellow'}\n",
    "sns.scatterplot(data=data, x='Elevation Gain', y='Distance', hue='Bike Type', palette=colors)\n",
    "plt.title('Scatterplot von Elevation Gain vs Distance für Bike Type')\n",
    "plt.xlabel('Elevation Gain')\n",
    "plt.ylabel('Distance')\n",
    "plt.grid(True)\n",
    "plt.show()"
   ]
  },
  {
   "cell_type": "code",
   "execution_count": null,
   "id": "fb2c1966-3379-4b86-b417-3ede92dfcd8b",
   "metadata": {},
   "outputs": [],
   "source": [
    "# Boxplots für Elevation Gain und Distance\n",
    "\n",
    "# Boxplot für Elevation Gain\n",
    "plt.figure(figsize=(12, 6))\n",
    "sns.boxplot(x='Bike Type', y='Elevation Gain', data=data, order=['race bike', 'mtb', 'trecking bike'])\n",
    "plt.title('Boxplot von Elevation Gain für Bike Types')\n",
    "plt.xlabel('Bike Type')\n",
    "plt.ylabel('Elevation Gain')\n",
    "plt.grid(True)\n",
    "plt.show()\n",
    "\n",
    "# Boxplot für Distance\n",
    "plt.figure(figsize=(12, 6))\n",
    "sns.boxplot(x='Bike Type', y='Distance', data=data, order=['race bike', 'mtb', 'trecking bike'])\n",
    "plt.title('Boxplot von Distance für Bike Types')\n",
    "plt.xlabel('Bike Type')\n",
    "plt.ylabel('Distance')\n",
    "plt.grid(True)\n",
    "plt.show()"
   ]
  },
  {
   "cell_type": "markdown",
   "id": "5a0ef810-9c08-44c3-ac55-ddfc2c9f7c98",
   "metadata": {},
   "source": [
    "## Aufgabenteil 2: Evidenztheorie\n",
    "\n",
    "Entwerfen Sie ein KI Modell auf Basis von Evidenztheorie und setzen Sie dieses als Jupyter Notebook um. Wählen Sie geeignete Fuzzy Mengen zur Bewertung und Integration der Evidenzwerte.\n"
   ]
  },
  {
   "cell_type": "code",
   "execution_count": null,
   "id": "91ea47db-8496-4f6e-842a-3599196074a4",
   "metadata": {},
   "outputs": [],
   "source": [
    "# !pip install py_dempster_shafer\n",
    "\n",
    "from pyds import MassFunction\n",
    "\n",
    "omega = ''   # von Ihnen zu setzen"
   ]
  },
  {
   "cell_type": "markdown",
   "id": "bfbe3e4a-527f-4ca9-9346-674ba0ec380c",
   "metadata": {},
   "source": [
    "### 1. Daten vorverarbeiten\n",
    "\n",
    "Analog zu den Übungslaboren sollen hier Fuzzy Mengen gebildet werden. Hinweise dazu sind in der Aufgabenstellung. Diese sind ggf. noch zu erweitern und geeignet zu erfassen."
   ]
  },
  {
   "cell_type": "code",
   "execution_count": null,
   "id": "fad5b58e-8b6f-4ef6-83ae-c2903fba2a63",
   "metadata": {},
   "outputs": [],
   "source": [
    "# Ihr Code\n",
    "\n",
    "# ( Vgl. Labor Evidenztheorie \"create_piecewise_function\") \n"
   ]
  },
  {
   "cell_type": "markdown",
   "id": "d9223529-44cf-401a-b885-4495e6c5cca2",
   "metadata": {},
   "source": [
    "### Begründung zur Wahl der Fuzzy Mengen\n",
    "\n",
    "<...Ihr Text...>"
   ]
  },
  {
   "cell_type": "markdown",
   "id": "1dd2ef5b-9911-4cbf-8cc2-1bc63fa98821",
   "metadata": {},
   "source": [
    "### 2. Daten mit Evidenztheorie verarbeiten\n",
    "\n",
    "Zusammenführen der Daten durch Akkumulation (Dempsters Regel)."
   ]
  },
  {
   "cell_type": "code",
   "execution_count": null,
   "id": "7633ea0b-666a-4d8c-b8d0-78e8b13f0d39",
   "metadata": {},
   "outputs": [],
   "source": [
    "# Beispielcode - ersetzen durch Ihren (umfangreicheren) Code\n",
    "\n",
    "m1 = MassFunction({'abc':0.9,omega:0.1})\n",
    "m2 = MassFunction({'cde':0.9,omega:0.1})\n",
    "m3 = m1 & m2\n"
   ]
  },
  {
   "cell_type": "markdown",
   "id": "b7fd788c-3a7e-4458-a93f-83baad2f9250",
   "metadata": {},
   "source": [
    "### Begründungen\n",
    "\n",
    "<...Ihr Text...>"
   ]
  },
  {
   "cell_type": "markdown",
   "id": "51deb261-99d5-460b-a3f4-25d63c188c21",
   "metadata": {},
   "source": [
    "### 3. Test und Bewertung \n",
    "\n",
    "Wie gut ist der Klassifikator? Prüfen Sie Ihre Konfiguration und testen Sie geeignet. "
   ]
  },
  {
   "cell_type": "code",
   "execution_count": null,
   "id": "865cedbb-56b0-4f39-aab2-d074749a4447",
   "metadata": {},
   "outputs": [],
   "source": [
    "# Ihr Code\n",
    "\n"
   ]
  },
  {
   "cell_type": "markdown",
   "id": "888b2521-2053-44cb-9d71-7609afc619f4",
   "metadata": {},
   "source": [
    "### Diskussion der Ergebnisse \n",
    "\n",
    "<...Ihr Text...>"
   ]
  },
  {
   "cell_type": "markdown",
   "id": "61da6d54-f2e9-4a24-b8ec-fd8f1d406300",
   "metadata": {},
   "source": [
    "## Aufgabenteil 2: Case Based Reasoning\n",
    "\n",
    "Entwerfen Sie ein KI Modell auf Basis von Case Based Reasoning und setzen\n",
    "Sie dieses als Jupyter Notebook um. Wählen Sie geeignete Vorgehensweisen um die Fallbasis\n",
    "aufzubauen (CBL) und geeignete Ähnlichkeitsmaße."
   ]
  },
  {
   "cell_type": "markdown",
   "id": "3036b50e-cb0e-4fb5-b3fd-6a5e796a4eb4",
   "metadata": {},
   "source": [
    "### 1. Ähnlichkeitsmaß definieren\n",
    "\n",
    "Entwerfen Sie ein zur Aufgabenstellung passendes und geeignetes Ähnlichkeitsmaß."
   ]
  },
  {
   "cell_type": "code",
   "execution_count": null,
   "id": "082e6b3c-5a45-461a-b73e-9377d6293830",
   "metadata": {},
   "outputs": [],
   "source": [
    "# Beispiel - hier soll Ihr Code eingefügt werden\n",
    "\n",
    "def aehnlichkeit(person1, person2):\n",
    "    \"\"\"\n",
    "    Berechnet die Ähnlichkeit zwischen zwei Personen.\n",
    "\n",
    "    Args:\n",
    "        person1: Eine Zeile des Datensatzes als Dictionary.\n",
    "        person2: Eine Zeile des Datensatzes als Dictionary.\n",
    "\n",
    "    Returns:\n",
    "        float: Ein Wert zwischen 0 und 1, der die Ähnlichkeit angibt.\n",
    "    \"\"\"\n",
    "\n",
    "    aehnlichkeit = 1.0\n",
    "\n",
    "    return aehnlichkeit"
   ]
  },
  {
   "cell_type": "markdown",
   "id": "751f9878-6015-4d63-b6de-2ee761238276",
   "metadata": {},
   "source": [
    "### Begründung zur Wahl des Ähnlichkeitsmaßes\n",
    "\n",
    "<...Ihr Text...>"
   ]
  },
  {
   "cell_type": "markdown",
   "id": "b528963d-87af-45c1-b6a4-869b4566d4cf",
   "metadata": {},
   "source": [
    "### 2. CBR Zyklus umsetzen\n",
    "\n",
    "Zunächst wird RETRIEVE benötigt. Dann sollte geprüft werden ob das Ergebnis bereits ausreicht. Wenn nicht, sollte geprüft werden, ob man die Daten in die Fallbasis aufnimmt. Die Fallbasis ist klein zu halten."
   ]
  },
  {
   "cell_type": "code",
   "execution_count": null,
   "id": "b839035b-5aab-473f-b418-0747a91a78f0",
   "metadata": {},
   "outputs": [],
   "source": [
    "# Beispiel aus dem Übungslabor - durch eigene Lösung zu ersetzen\n",
    "\n",
    "def finde_aehnlichsten_fall(df, person_zu_vergleichen):\n",
    "    \"\"\"\n",
    "    Findet die Person im DataFrame, die die größte Ähnlichkeit zur gegebenen Person hat.\n",
    "\n",
    "    Args:\n",
    "        df: Ein Pandas DataFrame mit den Personendaten.\n",
    "        person_zu_vergleichen: Ein Dictionary, das die Merkmale der Person zum Vergleich enthält.\n",
    "\n",
    "    Returns:\n",
    "        tuple: Ein Tupel mit (index, ähnlichkeit), wobei index der Index der ähnlichsten Person im DataFrame und ähnlichkeit der Ähnlichkeitswert ist.\n",
    "    \"\"\"\n",
    "\n",
    "    max_aehnlichkeit = -1\n",
    "    index_aehlichste_person = -1\n",
    "\n",
    "    for i, row in df.iterrows():\n",
    "        person_im_df = row.to_dict()\n",
    "\n",
    "        a = aehnlichkeit(person_zu_vergleichen, person_im_df)\n",
    "\n",
    "        if a > max_aehnlichkeit:\n",
    "            max_aehnlichkeit = a\n",
    "            index_aehlichste_person = i\n",
    "            aehnlichster_datensatz = row\n",
    "\n",
    "    return index_aehlichste_person, max_aehnlichkeit, aehnlichster_datensatz"
   ]
  },
  {
   "cell_type": "code",
   "execution_count": null,
   "id": "25e50b5e-aa99-4a4a-a67b-786fb889bed9",
   "metadata": {},
   "outputs": [],
   "source": [
    "# CBL umsetzen (vgl. Übungslabor)\n",
    "\n"
   ]
  },
  {
   "cell_type": "markdown",
   "id": "98c29e7c-3f61-447f-a10b-4dedad692eb1",
   "metadata": {},
   "source": [
    "### Begründungen \n",
    "\n",
    "<...Ihr Text...>"
   ]
  },
  {
   "cell_type": "markdown",
   "id": "f6fdfb8b-a06b-4a97-bd0d-6fa27116f62c",
   "metadata": {},
   "source": [
    "### 3. Test und Bewertung\n",
    "\n",
    "Wie gut ist der Klassifikator? Prüfen Sie Ihre Konfiguration (u.a. abhängig von Ähnlichkeitsfunktion) und testen Sie geeignet. "
   ]
  },
  {
   "cell_type": "code",
   "execution_count": null,
   "id": "abc179c7-40f5-4678-a290-478319aa887b",
   "metadata": {},
   "outputs": [],
   "source": [
    "# Ihr Code\n"
   ]
  },
  {
   "cell_type": "markdown",
   "id": "af7cc565-b829-470c-b68e-3c74621b9191",
   "metadata": {},
   "source": [
    "### Diskussion der Ergebnisse \n",
    "\n",
    "<...Ihr Text...>"
   ]
  },
  {
   "cell_type": "markdown",
   "id": "00a7dbee-a08e-41e6-9665-bf2cd2a7b8e2",
   "metadata": {},
   "source": [
    "# Abschluss\n",
    "\n",
    "Vergleich der beiden Verfahren. Ggf. ist hier noch Code zum Vergleich zu ergänzen, ansonsten weitgehend durch Text."
   ]
  },
  {
   "cell_type": "markdown",
   "id": "08ca89af-081e-47ea-be6a-d4aef52bf6ea",
   "metadata": {},
   "source": [
    "<...Ihr Text...>"
   ]
  }
 ],
 "metadata": {
  "kernelspec": {
   "display_name": "base",
   "language": "python",
   "name": "python3"
  },
  "language_info": {
   "codemirror_mode": {
    "name": "ipython",
    "version": 3
   },
   "file_extension": ".py",
   "mimetype": "text/x-python",
   "name": "python",
   "nbconvert_exporter": "python",
   "pygments_lexer": "ipython3",
   "version": "3.12.4"
  }
 },
 "nbformat": 4,
 "nbformat_minor": 5
}
