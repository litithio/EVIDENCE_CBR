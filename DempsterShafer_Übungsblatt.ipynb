{
 "cells": [
  {
   "cell_type": "markdown",
   "metadata": {},
   "source": [
    "Hinweis vorab: Es wird eine Bibliothek benötigt. Diese installieren Sie mit pip install py_dempster_shafer"
   ]
  },
  {
   "cell_type": "markdown",
   "metadata": {},
   "source": [
    "# Dempster Shafer Übungsbeispiel\n"
   ]
  },
  {
   "cell_type": "markdown",
   "metadata": {},
   "source": [
    "Ein  Kriminalfall  soll  mit  Hilfe  der  Evidenzen  und  Dempsters  Regel  ge-löst  werden.  Hier  ist  die  nötige  Information:  Einbruch  beim  Nachbarn.  Wer  war  der  Täter?  Es  gibt  eine  Menge  von  Verdachtspersonen  mit  folgenden Eigenschaften: "
   ]
  },
  {
   "cell_type": "raw",
   "metadata": {},
   "source": [
    "Person       Größe  Alter  Haarfarbe \n",
    "Tobias   T   1,82     30   braun   \n",
    "Ralf     R   1.69     55   schwarz        \n",
    "Sabine   S   1,95     17   braun   \n",
    "Ulrike   U   1,66     61   grau     \n",
    "Erna     E   1,76     41   blond      \n",
    "Frank    F   1,81     34   blond    "
   ]
  },
  {
   "cell_type": "markdown",
   "metadata": {},
   "source": [
    "###### Zeugenaussage 1"
   ]
  },
  {
   "cell_type": "markdown",
   "metadata": {},
   "source": [
    "„Ich glaube der Täter war dunkelhaarig, ziemlich sicher ...“"
   ]
  },
  {
   "cell_type": "markdown",
   "metadata": {},
   "source": [
    "Dies trifft auf Tobias, Ralf und Sabine (t,r,s) zu. Diese Menge ist also nicht weiter differenzierbar aber insgesamt ist für diese nun eine Aussage möglich."
   ]
  },
  {
   "cell_type": "code",
   "execution_count": 25,
   "metadata": {},
   "outputs": [],
   "source": [
    "from pyds import MassFunction\n",
    "\n",
    "omega = 'trsuef'"
   ]
  },
  {
   "cell_type": "markdown",
   "metadata": {},
   "source": [
    "Das Basismaß wird in der Bibliothek als \"MassFunction\" implementiert. Die Evidenz wird nun für dieses Beispiel mit 0.88 festgelegt."
   ]
  },
  {
   "cell_type": "code",
   "execution_count": 26,
   "metadata": {},
   "outputs": [
    {
     "name": "stdout",
     "output_type": "stream",
     "text": [
      "m1 = {{'r', 's', 't'}:0.88; {'r', 'u', 's', 't', 'e', 'f'}:0.12}\n"
     ]
    }
   ],
   "source": [
    "m1 = MassFunction({'trs':0.88, omega:0.12})\n",
    "print('m1 =', m1)"
   ]
  },
  {
   "cell_type": "markdown",
   "metadata": {},
   "source": [
    "###### Zeugenaussage 2\n",
    "\n",
    " „Zwei  kämen  in  Frage:  einer  sehr  groß,  bestimmt  zwischen  1,80 und 2 m – und der andere eher klein, kleiner als 1,70 m.“ \n"
   ]
  },
  {
   "cell_type": "markdown",
   "metadata": {},
   "source": [
    "Dies trifft auf Tobias, Sabine und Frank zu (groß) und auch auch Ulrike und Ralf (klein). Die Evidenzen werden jeweils mit 0.45 festgelegt, so dass noch 0.1 für Omega übrig bleibt."
   ]
  },
  {
   "cell_type": "code",
   "execution_count": 27,
   "metadata": {},
   "outputs": [
    {
     "name": "stdout",
     "output_type": "stream",
     "text": [
      "m2 = {{'f', 's', 't'}:0.45; {'r', 'u'}:0.45; {'r', 'u', 's', 't', 'e', 'f'}:0.1}\n"
     ]
    }
   ],
   "source": [
    "m2 = MassFunction({'tsf':0.45,'ur':0.45,omega:0.1})\n",
    "print('m2 =', m2)"
   ]
  },
  {
   "cell_type": "code",
   "execution_count": 28,
   "metadata": {},
   "outputs": [
    {
     "name": "stdout",
     "output_type": "stream",
     "text": [
      "m12 =  {{'s', 't'}:0.396; {'r'}:0.396; {'r', 's', 't'}:0.08800000000000001; {'s', 't', 'f'}:0.054; {'r', 'u'}:0.054; {'r', 'u', 's', 't', 'e', 'f'}:0.012}\n"
     ]
    }
   ],
   "source": [
    "m12 = m1.combine_conjunctive(m2) # dies ist Demptsters Regel wie in der Vorlesung vorgestellt\n",
    "print('m12 = ',m12)"
   ]
  },
  {
   "cell_type": "markdown",
   "metadata": {},
   "source": [
    "###### Zeugenaussage 3\n",
    "„Ich würde die Person mal auf über 40 schätzen ...“ "
   ]
  },
  {
   "cell_type": "code",
   "execution_count": 29,
   "metadata": {},
   "outputs": [
    {
     "name": "stdout",
     "output_type": "stream",
     "text": [
      "m3 = {{'r', 'u', 'e'}:0.65; {'r', 'u', 's', 't', 'e', 'f'}:0.35}\n"
     ]
    }
   ],
   "source": [
    "m3 = MassFunction({'uer':0.65,omega:0.35})\n",
    "print('m3 =', m3)"
   ]
  },
  {
   "cell_type": "markdown",
   "metadata": {},
   "source": [
    "Nun kombinieren wir auch diese mit dem Ergebnis der ersten Verknüpfung von Zeugenaussage 1 und 2."
   ]
  },
  {
   "cell_type": "code",
   "execution_count": 30,
   "metadata": {},
   "outputs": [
    {
     "name": "stdout",
     "output_type": "stream",
     "text": [
      "m123 =  {{'r'}:0.640565371024735; {'s', 't'}:0.19590106007067137; {'r', 'u'}:0.07632508833922261; {'r', 's', 't'}:0.04353356890459364; {'f', 's', 't'}:0.026713780918727916; {'r', 'u', 'e'}:0.011024734982332156; {'r', 'u', 's', 't', 'e', 'f'}:0.005936395759717314}\n"
     ]
    }
   ],
   "source": [
    "m123 = m12 & m3\n",
    "print('m123 = ', m123)"
   ]
  },
  {
   "cell_type": "markdown",
   "metadata": {},
   "source": [
    "Wie plausibel ist es nun, dass Ralf der Täter ist?"
   ]
  },
  {
   "cell_type": "code",
   "execution_count": 33,
   "metadata": {},
   "outputs": [
    {
     "data": {
      "text/plain": [
       "0.7773851590106007"
      ]
     },
     "execution_count": 33,
     "metadata": {},
     "output_type": "execute_result"
    }
   ],
   "source": [
    "m123.pl({'r'})"
   ]
  },
  {
   "cell_type": "markdown",
   "metadata": {},
   "source": [
    "Eine kleine Ergänzung zur Bestimmung des Konflikts: "
   ]
  },
  {
   "cell_type": "code",
   "execution_count": 49,
   "metadata": {},
   "outputs": [
    {
     "data": {
      "text/plain": [
       "0.34601764946474434"
      ]
     },
     "execution_count": 49,
     "metadata": {},
     "output_type": "execute_result"
    }
   ],
   "source": [
    "m12.conflict(m3)"
   ]
  },
  {
   "cell_type": "markdown",
   "metadata": {},
   "source": [
    "Der Wert entspricht nicht dem 'K', welches in der Vorlesung eingeführt wurde. K ist hier 0,2925. Für die Normalisierung mussten alle verbleibenden Elemente des Maßes mit 1/(1-K) = 1,4134 multipliziert werden. Um diese mit Hilfe dieser Bibliothek nachzustellen ist zu beachten, dass diese den natürlichen Logarithmus des Normierungsfaktors als Konflikt bezeichnet."
   ]
  },
  {
   "cell_type": "code",
   "execution_count": 52,
   "metadata": {},
   "outputs": [
    {
     "name": "stdout",
     "output_type": "stream",
     "text": [
      "0.29250000000000004\n"
     ]
    }
   ],
   "source": [
    "import math\n",
    "N = math.exp(m12.conflict(m3))\n",
    "K = (1-N)/-N # entspricht N = 1/(1-K)\n",
    "print(K)"
   ]
  },
  {
   "cell_type": "markdown",
   "metadata": {},
   "source": [
    "Darüber hinaus kann noch der Belief bestimmt werden. "
   ]
  },
  {
   "cell_type": "code",
   "execution_count": 54,
   "metadata": {},
   "outputs": [
    {
     "name": "stdout",
     "output_type": "stream",
     "text": [
      "B(Ralf) = 0.640565371024735\n",
      "B(Tobias) = 0.0\n",
      "B(Frank) = 0.0\n"
     ]
    }
   ],
   "source": [
    "print('B(Ralf) =', m123.bel('r'))\n",
    "print('B(Tobias) =',m123.bel('t'))\n",
    "print('B(Frank) =',m123.bel('f'))"
   ]
  },
  {
   "cell_type": "code",
   "execution_count": 56,
   "metadata": {},
   "outputs": [
    {
     "name": "stdout",
     "output_type": "stream",
     "text": [
      "B(Es war ein Mann)  = B({t,r,f}) =  0.640565371024735\n",
      "B(Es war eine Frau) = B({s,u,e}) =  0.0\n"
     ]
    }
   ],
   "source": [
    "print('B(Es war ein Mann)  = B({t,r,f}) = ',m123.bel('trf'))\n",
    "print('B(Es war eine Frau) = B({s,u,e}) = ',m123.bel('sue'))"
   ]
  },
  {
   "cell_type": "code",
   "execution_count": 58,
   "metadata": {},
   "outputs": [
    {
     "name": "stdout",
     "output_type": "stream",
     "text": [
      "Pl(Es war ein Mann)  = Pl({t,r,f}) =  1.0\n",
      "Pl(Es war eine Frau) = Pl({s,u,e}) =  0.359434628975265\n"
     ]
    }
   ],
   "source": [
    "print('Pl(Es war ein Mann)  = Pl({t,r,f}) = ',m123.pl('trf'))\n",
    "print('Pl(Es war eine Frau) = Pl({s,u,e}) = ',m123.pl('sue'))"
   ]
  },
  {
   "cell_type": "markdown",
   "metadata": {},
   "source": [
    "Der Zweifel(x) ist nicht direkt implementiert, kann aber ergänzt werden durch die Berechnung des Beliefs an Omega ohne x. "
   ]
  },
  {
   "cell_type": "code",
   "execution_count": 60,
   "metadata": {},
   "outputs": [
    {
     "data": {
      "text/plain": [
       "0.2226148409893993"
      ]
     },
     "execution_count": 60,
     "metadata": {},
     "output_type": "execute_result"
    }
   ],
   "source": [
    "m123.bel(omega.replace('r',\"\"))"
   ]
  }
 ],
 "metadata": {
  "kernelspec": {
   "display_name": "Python [conda env:base] *",
   "language": "python",
   "name": "conda-base-py"
  },
  "language_info": {
   "codemirror_mode": {
    "name": "ipython",
    "version": 3
   },
   "file_extension": ".py",
   "mimetype": "text/x-python",
   "name": "python",
   "nbconvert_exporter": "python",
   "pygments_lexer": "ipython3",
   "version": "3.12.7"
  }
 },
 "nbformat": 4,
 "nbformat_minor": 4
}
